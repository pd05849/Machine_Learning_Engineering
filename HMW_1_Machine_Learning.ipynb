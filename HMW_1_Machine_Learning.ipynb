{
  "nbformat": 4,
  "nbformat_minor": 0,
  "metadata": {
    "colab": {
      "provenance": [],
      "authorship_tag": "ABX9TyNzSD+v2Mi1NoFtGJRYJC+h",
      "include_colab_link": true
    },
    "kernelspec": {
      "name": "python3",
      "display_name": "Python 3"
    },
    "language_info": {
      "name": "python"
    }
  },
  "cells": [
    {
      "cell_type": "markdown",
      "metadata": {
        "id": "view-in-github",
        "colab_type": "text"
      },
      "source": [
        "<a href=\"https://colab.research.google.com/github/pd05849/Machine_Learning_Engineering/blob/main/HMW_1_Machine_Learning.ipynb\" target=\"_parent\"><img src=\"https://colab.research.google.com/assets/colab-badge.svg\" alt=\"Open In Colab\"/></a>"
      ]
    },
    {
      "cell_type": "markdown",
      "source": [
        "QUESTION 1\n",
        "\n"
      ],
      "metadata": {
        "id": "ZzV77wPeNVdD"
      }
    },
    {
      "cell_type": "markdown",
      "source": [
        " (a) How many features are there in 𝐱𝟏? What are the norms?"
      ],
      "metadata": {
        "id": "XQteXgRSNJDQ"
      }
    },
    {
      "cell_type": "code",
      "source": [
        "import numpy as np\n",
        "\n",
        "v = np.array([2, 3, 4, 8, 9])\n",
        "x1 = np.transpose(v)\n",
        "\n",
        "l1 = np.linalg.norm(x1, 1)\n",
        "\n",
        "l2 = np.linalg.norm(x1, 2)\n",
        "\n",
        "linf = np.linalg.norm(x1, np.inf)\n",
        "\n",
        "print(len(v))\n",
        "print(\"L1 norm:\", l1)\n",
        "print(\"L2 norm:\", l2)\n",
        "print(\"L-infinity norm:\", linf)"
      ],
      "metadata": {
        "id": "Ig-PCbFENbZX"
      },
      "execution_count": null,
      "outputs": []
    },
    {
      "cell_type": "markdown",
      "source": [
        "(b) How many features are there in 𝐱2? What are the norms?"
      ],
      "metadata": {
        "id": "kA6g2f8uNx0J"
      }
    },
    {
      "cell_type": "code",
      "source": [
        "import numpy as np\n",
        "\n",
        "v = np.array([2, -3, -4, 89])\n",
        "x2 = np.transpose(v)\n",
        "\n",
        "l1 = np.linalg.norm(x2, 1)\n",
        "\n",
        "l2 = np.linalg.norm(x2, 2)\n",
        "\n",
        "linf = np.linalg.norm(x2, np.inf)\n",
        "\n",
        "print(len(v))\n",
        "print(\"L1 norm:\", l1)\n",
        "print(\"L2 norm:\", l2)\n",
        "print(\"L-infinity norm:\", linf)\n"
      ],
      "metadata": {
        "colab": {
          "base_uri": "https://localhost:8080/"
        },
        "id": "NrFIZvq_N8Hz",
        "outputId": "48b6f3df-169c-4cde-e138-50a1047dfb88"
      },
      "execution_count": 2,
      "outputs": [
        {
          "output_type": "stream",
          "name": "stdout",
          "text": [
            "4\n",
            "L1 norm: 98.0\n",
            "L2 norm: 89.16277250063504\n",
            "L-infinity norm: 89.0\n"
          ]
        }
      ]
    },
    {
      "cell_type": "markdown",
      "source": [
        " QUESTION 2 A color image of size 1024x1024 is input to an algorithm which outputs a 64x64\n",
        " color image representing some important portions of the original image. [Hint: a color\n",
        " image comprises of multiple channels]\n",
        " (a) If the input is converted to a vector, 𝐱 , calculate the length of the feature vector."
      ],
      "metadata": {
        "id": "hqSR29ZGOi4x"
      }
    },
    {
      "cell_type": "code",
      "source": [
        "size = 1024 * 1024\n",
        "channels = 3\n",
        "vector_length = size * channels\n",
        "\n",
        "print(\"Length of the feature vector:\", vector_length)"
      ],
      "metadata": {
        "colab": {
          "base_uri": "https://localhost:8080/"
        },
        "id": "4rTbvOeZOrD4",
        "outputId": "b2a1018b-f649-4244-c7a4-2c9dc3908fc2"
      },
      "execution_count": 6,
      "outputs": [
        {
          "output_type": "stream",
          "name": "stdout",
          "text": [
            "Length of the feature vector: 3145728\n"
          ]
        }
      ]
    },
    {
      "cell_type": "markdown",
      "source": [
        "(b) If the output is converted to a vector, 𝐲, calculate the length of the output vector."
      ],
      "metadata": {
        "id": "RcUdbIctPEC_"
      }
    },
    {
      "cell_type": "code",
      "source": [
        "size = 64 * 64\n",
        "channels = 3\n",
        "vector_length = size * channels\n",
        "\n",
        "print(\"Length of the feature vector:\", vector_length)"
      ],
      "metadata": {
        "colab": {
          "base_uri": "https://localhost:8080/"
        },
        "id": "qIGRKQPjPJxe",
        "outputId": "058f64e8-f7ee-4ead-c55d-b5ae503abb1e"
      },
      "execution_count": 4,
      "outputs": [
        {
          "output_type": "stream",
          "name": "stdout",
          "text": [
            "Length of the feature vector: 12288\n"
          ]
        }
      ]
    },
    {
      "cell_type": "markdown",
      "source": [
        " (c) The algorithm relates the input and output vectors, 𝐱 and 𝐲 respectively, as 𝐲 =\n",
        " 𝑊𝐱+𝐛,where W is a matrix and 𝐛 is a vector. How many elements are there in\n",
        " matrix W? How many elements are in vector b?"
      ],
      "metadata": {
        "id": "zRv3zq4pPPQS"
      }
    },
    {
      "cell_type": "code",
      "metadata": {
        "id": "956c8469"
      },
      "source": [
        "\n",
        "input_vector = 1024 * 1024 * 3\n",
        "\n",
        "output_vector = 64 * 64 * 3\n",
        "\n",
        "W = output_vector * input_vector\n",
        "\n",
        "b = output_vector\n",
        "\n",
        "print(\"Number of elements in matrix W:\", W)\n",
        "print(\"Number of elements in vector b:\", b)"
      ],
      "execution_count": null,
      "outputs": []
    },
    {
      "cell_type": "markdown",
      "source": [
        "QUESTION 3 Calculate 1-norm, 2-norm, ∞-norm, and Frobenius norm of the following matrix"
      ],
      "metadata": {
        "id": "8YlQnam7OP6_"
      }
    },
    {
      "cell_type": "code",
      "source": [
        "import numpy as np\n",
        "\n",
        "W = ([[1,-1], [2,0]])\n",
        "l1 = np.linalg.norm(W, 1)\n",
        "l2 = np.linalg.norm(W, 2)\n",
        "linf = np.linalg.norm(W, np.inf)\n",
        "lfro = np.linalg.norm(W, 'fro')\n",
        "\n",
        "print(\"L1 norm:\", l1)\n",
        "print(\"L2 norm:\", l2)\n",
        "print(\"L-infinity norm:\", linf)\n",
        "print(\"Frobenius norm:\", lfro)"
      ],
      "metadata": {
        "id": "fxNNgiieOck5"
      },
      "execution_count": null,
      "outputs": []
    },
    {
      "cell_type": "markdown",
      "source": [
        "QUESTION 4  Use the Iris dataset and the code shown in class, but choose 3 out of the 4\n",
        " original features instead of two and calculate the accuracy score of classification."
      ],
      "metadata": {
        "id": "fLURcqO7P5pI"
      }
    },
    {
      "cell_type": "code",
      "source": [
        "from sklearn import datasets\n",
        "\n",
        "iris = datasets.load_iris()\n",
        "iris.data\n",
        "iris.feature_names\n",
        "iris.target_names\n",
        "iris.target\n",
        "X = iris.data\n",
        "y = iris.target\n",
        "X.shape\n",
        "y.shape\n",
        "X = iris.data[:, :4] # selecting all 4 features\n",
        "y = iris.target\n",
        "\n",
        "from sklearn.model_selection import train_test_split\n",
        "\n",
        "X_train, X_test, y_train, y_test=train_test_split(\n",
        "    X,y,\n",
        "    test_size=0.40,\n",
        "    train_size=0.60,\n",
        "    random_state=123,\n",
        "    shuffle=True,\n",
        "    stratify=y)\n",
        "from sklearn import svm\n",
        "\n",
        "clf = svm.SVC()\n",
        "clf.fit(X_train, y_train)\n",
        "preds = clf.predict(X_test)\n",
        "print(preds)\n",
        "print('actual iris species')\n",
        "print(y_test)\n",
        "from sklearn.metrics import accuracy_score\n",
        "acc = accuracy_score(y_test,clf.predict(X_test) )\n",
        "print('accuracy score :', acc)"
      ],
      "metadata": {
        "id": "9rPymHipP-51"
      },
      "execution_count": null,
      "outputs": []
    },
    {
      "cell_type": "markdown",
      "source": [
        " QUESTION 5. In class, we used a neural network to learn how to calculate square root. Use\n",
        " that code and ideas to teach a neural network how to calculate the 7-th root of any\n",
        " integer between 1 and 100."
      ],
      "metadata": {
        "id": "yf9ON-2YSC_e"
      }
    },
    {
      "cell_type": "code",
      "source": [
        "import tensorflow as tf\n",
        "from numpy import loadtxt\n",
        "from keras.models import Sequential\n",
        "from keras.layers import Dense\n",
        "from keras import optimizers\n",
        "from tensorflow.python.keras.optimizers import *\n",
        "import numpy as np\n",
        "\n",
        "X = np.array([[1], [4], [9], [16], [25], [36], [49], [64], [81], [100]])\n",
        "X = X*1.0\n",
        "y = np.array([[1**(1/7)], [4**(1/7)], [9**(1/7)], [16**(1/7)], [25**(1/7)], [36**(1/7)], [49**(1/7)], [64**(1/7)], [81**(1/7)], [100**(1/7)]])\n",
        "y = y*1.0\n",
        "\n",
        "model = Sequential()\n",
        "\n",
        "model.add(Dense(6,input_dim=1,activation='relu'))\n",
        "model.add(Dense(6,activation='relu'))\n",
        "model.add(Dense(6,activation='relu'))\n",
        "model.add(Dense(1))\n",
        "\n",
        "opt = optimizers.Adam(learning_rate=0.001)\n",
        "mse = tf.keras.losses.MeanSquaredError(\n",
        "    reduction=tf.keras.losses.Reduction.SUM)\n",
        "model.compile(loss=mse, optimizer=opt)\n",
        "\n",
        "model.fit(X,y,epochs=2000,batch_size=10, verbose=0)\n",
        "model.summary()\n",
        "\n",
        "predictions = model.predict(X)\n",
        "\n",
        "for i in range(10):\n",
        "    print('%s => %.2f (expected %.2f)' %(X[i].tolist(), predictions[i], y[i]) )\n",
        "\n",
        "import matplotlib.pyplot as plt\n",
        "number_grid = np.linspace(1, 100, 100)\n",
        "plt.scatter(X,y, label='data')\n",
        "plt.plot(number_grid,model.predict(np.expand_dims(number_grid,axis=1)) , color='red', label='model')\n",
        "plt.xlabel('number')\n",
        "plt.ylabel('7th root')\n",
        "plt.legend()"
      ],
      "metadata": {
        "id": "NZkKF38SSJkK"
      },
      "execution_count": null,
      "outputs": []
    },
    {
      "cell_type": "markdown",
      "source": [
        " Question 6. (40 pts.) Use the Iris dataset and the neural network code shown in class to create a\n",
        " neural network model that takes sepal length as input and predicts petal length as output.\n",
        ""
      ],
      "metadata": {
        "id": "joacubbPSj6d"
      }
    },
    {
      "cell_type": "code",
      "metadata": {
        "id": "962d2cfc"
      },
      "source": [
        "from sklearn import datasets\n",
        "import numpy as np\n",
        "import tensorflow as tf\n",
        "from keras.models import Sequential\n",
        "from keras.layers import Dense\n",
        "from keras import optimizers\n",
        "from tensorflow.python.keras.optimizers import *\n",
        "import matplotlib.pyplot as plt\n",
        "\n",
        "\n",
        "iris = datasets.load_iris()\n",
        "X = iris.data[:, :1]\n",
        "y = iris.data[:,2:3]\n",
        "\n",
        "from sklearn.model_selection import train_test_split\n",
        "\n",
        "X_train, X_test, y_train, y_test=train_test_split(\n",
        "    X,y,\n",
        "    test_size=0.40,\n",
        "    train_size=0.60,\n",
        "    random_state=123,\n",
        "    shuffle=True,\n",
        "    )\n",
        "\n",
        "model = Sequential()\n",
        "\n",
        "model.add(Dense(36,input_dim=1,activation='relu'))\n",
        "model.add(Dense(36,activation='relu'))\n",
        "model.add(Dense(36,activation='relu'))\n",
        "model.add(Dense(1))\n",
        "\n",
        "opt = optimizers.Adam(learning_rate=0.001)\n",
        "mse = tf.keras.losses.MeanSquaredError(reduction=tf.keras.losses.Reduction.SUM)\n",
        "model.compile(loss=mse, optimizer=opt)\n",
        "print('training')\n",
        "model.fit(X_train,y_train,epochs=2000,batch_size=10, verbose=0)\n",
        "model.summary()\n",
        "predictions = model.predict(X_test)\n",
        "print('predictions')\n",
        "\n",
        "for i in range(len(X_test)):\n",
        "    print('%s => %.2f (expected %.2f)' %(X_test[i].tolist(), predictions[i], y_test[i]) )\n",
        "\n",
        "plt.scatter(X_test, y_test, label='Actual')\n",
        "plt.scatter(X_test, predictions, color='red', label='Predictions')\n",
        "plt.xlabel('Sepal Length')\n",
        "plt.ylabel('Petal Length')\n",
        "plt.title('Petal Length Prediction based on Sepal Length')\n",
        "plt.legend()\n",
        "plt.show()"
      ],
      "execution_count": null,
      "outputs": []
    }
  ]
}