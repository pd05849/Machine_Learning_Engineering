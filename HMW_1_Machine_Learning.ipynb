{
  "nbformat": 4,
  "nbformat_minor": 0,
  "metadata": {
    "colab": {
      "provenance": [],
      "authorship_tag": "ABX9TyMDD4/b3hP72WXIjIBhyTXJ",
      "include_colab_link": true
    },
    "kernelspec": {
      "name": "python3",
      "display_name": "Python 3"
    },
    "language_info": {
      "name": "python"
    }
  },
  "cells": [
    {
      "cell_type": "markdown",
      "metadata": {
        "id": "view-in-github",
        "colab_type": "text"
      },
      "source": [
        "<a href=\"https://colab.research.google.com/github/pd05849/Machine_Learning_Engineering/blob/main/HMW_1_Machine_Learning.ipynb\" target=\"_parent\"><img src=\"https://colab.research.google.com/assets/colab-badge.svg\" alt=\"Open In Colab\"/></a>"
      ]
    },
    {
      "cell_type": "markdown",
      "source": [
        "QUESTION 1\n",
        "\n"
      ],
      "metadata": {
        "id": "ZzV77wPeNVdD"
      }
    },
    {
      "cell_type": "markdown",
      "source": [
        " (a) How many features are there in 𝐱𝟏? What are the norms?"
      ],
      "metadata": {
        "id": "XQteXgRSNJDQ"
      }
    },
    {
      "cell_type": "code",
      "source": [
        "import numpy as np\n",
        "\n",
        "v = np.array([2, 3, 4, 8, 9])\n",
        "x1 = np.transpose(v)\n",
        "\n",
        "# L1 norm (sum of absolute values)\n",
        "l1 = np.linalg.norm(x1, 1)\n",
        "\n",
        "# L2 norm (Euclidean norm)\n",
        "l2 = np.linalg.norm(x1, 2)\n",
        "\n",
        "# L-infinity norm (max absolute value)\n",
        "linf = np.linalg.norm(x1, np.inf)\n",
        "\n",
        "print(len(v))\n",
        "print(\"L1 norm:\", l1)\n",
        "print(\"L2 norm:\", l2)\n",
        "print(\"L-infinity norm:\", linf)"
      ],
      "metadata": {
        "id": "Ig-PCbFENbZX"
      },
      "execution_count": null,
      "outputs": []
    },
    {
      "cell_type": "markdown",
      "source": [
        "(b) How many features are there in 𝐱2? What are the norms?"
      ],
      "metadata": {
        "id": "kA6g2f8uNx0J"
      }
    },
    {
      "cell_type": "code",
      "source": [
        "import numpy as np\n",
        "\n",
        "v = np.array([2, -3, -4, 89])\n",
        "x2 = np.transpose(v)\n",
        "\n",
        "# L1 norm (sum of absolute values)\n",
        "l1 = np.linalg.norm(x2, 1)\n",
        "\n",
        "# L2 norm (Euclidean norm)\n",
        "l2 = np.linalg.norm(x2, 2)\n",
        "\n",
        "# L-infinity norm (max absolute value)\n",
        "linf = np.linalg.norm(x2, np.inf)\n",
        "\n",
        "print(len(v))\n",
        "print(\"L1 norm:\", l1)\n",
        "print(\"L2 norm:\", l2)\n",
        "print(\"L-infinity norm:\", linf)\n"
      ],
      "metadata": {
        "colab": {
          "base_uri": "https://localhost:8080/"
        },
        "id": "NrFIZvq_N8Hz",
        "outputId": "48b6f3df-169c-4cde-e138-50a1047dfb88"
      },
      "execution_count": 2,
      "outputs": [
        {
          "output_type": "stream",
          "name": "stdout",
          "text": [
            "4\n",
            "L1 norm: 98.0\n",
            "L2 norm: 89.16277250063504\n",
            "L-infinity norm: 89.0\n"
          ]
        }
      ]
    },
    {
      "cell_type": "markdown",
      "source": [
        " QUESTION 2 A color image of size 1024x1024 is input to an algorithm which outputs a 64x64\n",
        " color image representing some important portions of the original image. [Hint: a color\n",
        " image comprises of multiple channels]\n",
        " (a) If the input is converted to a vector, 𝐱 , calculate the length of the feature vector."
      ],
      "metadata": {
        "id": "hqSR29ZGOi4x"
      }
    },
    {
      "cell_type": "code",
      "source": [
        "size = 1024 * 1024\n",
        "channels = 3\n",
        "vector_length = size * channels\n",
        "\n",
        "print(\"Length of the feature vector:\", vector_length)"
      ],
      "metadata": {
        "colab": {
          "base_uri": "https://localhost:8080/"
        },
        "id": "4rTbvOeZOrD4",
        "outputId": "b2a1018b-f649-4244-c7a4-2c9dc3908fc2"
      },
      "execution_count": 6,
      "outputs": [
        {
          "output_type": "stream",
          "name": "stdout",
          "text": [
            "Length of the feature vector: 3145728\n"
          ]
        }
      ]
    },
    {
      "cell_type": "markdown",
      "source": [
        "(b) If the output is converted to a vector, 𝐲, calculate the length of the output vector."
      ],
      "metadata": {
        "id": "RcUdbIctPEC_"
      }
    },
    {
      "cell_type": "code",
      "source": [
        "size = 64 * 64\n",
        "channels = 3\n",
        "vector_length = size * channels\n",
        "\n",
        "print(\"Length of the feature vector:\", vector_length)"
      ],
      "metadata": {
        "colab": {
          "base_uri": "https://localhost:8080/"
        },
        "id": "qIGRKQPjPJxe",
        "outputId": "058f64e8-f7ee-4ead-c55d-b5ae503abb1e"
      },
      "execution_count": 4,
      "outputs": [
        {
          "output_type": "stream",
          "name": "stdout",
          "text": [
            "Length of the feature vector: 12288\n"
          ]
        }
      ]
    },
    {
      "cell_type": "markdown",
      "source": [
        " (c) The algorithm relates the input and output vectors, 𝐱 and 𝐲 respectively, as 𝐲 =\n",
        " 𝑊𝐱+𝐛,where W is amatrix and 𝐛 is a vector. How many elements are there in\n",
        " matrix W? How many elements are in vector b?"
      ],
      "metadata": {
        "id": "zRv3zq4pPPQS"
      }
    },
    {
      "cell_type": "code",
      "source": [],
      "metadata": {
        "id": "h8LWScaEPT05"
      },
      "execution_count": null,
      "outputs": []
    },
    {
      "cell_type": "markdown",
      "source": [
        "QUESTION 3 Calculate 1-norm, 2-norm, ∞-norm, and Frobenius norm of the following matrix"
      ],
      "metadata": {
        "id": "8YlQnam7OP6_"
      }
    },
    {
      "cell_type": "code",
      "source": [
        "import numpy as np\n",
        "\n",
        "W = ([[1,-1], [2,0]])\n",
        "l1 = np.linalg.norm(W, 1)\n",
        "l2 = np.linalg.norm(W, 2)\n",
        "linf = np.linalg.norm(W, np.inf)\n",
        "lfro = np.linalg.norm(W, 'fro')\n",
        "\n",
        "print(\"L1 norm:\", l1)\n",
        "print(\"L2 norm:\", l2)\n",
        "print(\"L-infinity norm:\", linf)\n",
        "print(\"Frobenius norm:\", lfro)"
      ],
      "metadata": {
        "id": "fxNNgiieOck5"
      },
      "execution_count": null,
      "outputs": []
    },
    {
      "cell_type": "markdown",
      "source": [
        "QUESTION 4  Use the Iris dataset and the code shown in class, but choose 3 out of the 4\n",
        " original features instead of two and calculate the accuracy score of classification."
      ],
      "metadata": {
        "id": "fLURcqO7P5pI"
      }
    },
    {
      "cell_type": "code",
      "source": [
        "from sklearn import datasets\n",
        "\n",
        "iris = datasets.load_iris()\n",
        "iris.data\n",
        "iris.feature_names\n",
        "iris.target_names\n",
        "iris.target\n",
        "X = iris.data\n",
        "y = iris.target\n",
        "X.shape\n",
        "y.shape\n",
        "X = iris.data[:, :4] # selecting all 4 features\n",
        "y = iris.target\n",
        "\n",
        "from sklearn.model_selection import train_test_split\n",
        "\n",
        "X_train, X_test, y_train, y_test=train_test_split(\n",
        "    X,y,\n",
        "    test_size=0.40,\n",
        "    train_size=0.60,\n",
        "    random_state=123,\n",
        "    shuffle=True,\n",
        "    stratify=y)\n",
        "from sklearn import svm\n",
        "\n",
        "clf = svm.SVC()\n",
        "clf.fit(X_train, y_train)\n",
        "preds = clf.predict(X_test)\n",
        "print(preds)\n",
        "print('actual iris species')\n",
        "print(y_test)\n",
        "from sklearn.metrics import accuracy_score\n",
        "acc = accuracy_score(y_test,clf.predict(X_test) )\n",
        "print('accuracy score :', acc)"
      ],
      "metadata": {
        "colab": {
          "base_uri": "https://localhost:8080/"
        },
        "id": "9rPymHipP-51",
        "outputId": "782fa396-2f14-4c0b-d81c-d5147c694845"
      },
      "execution_count": 7,
      "outputs": [
        {
          "output_type": "stream",
          "name": "stdout",
          "text": [
            "[1 1 1 1 0 2 2 0 0 2 0 2 2 2 2 0 1 2 0 2 2 0 1 0 0 2 1 0 0 0 0 0 1 2 0 1 1\n",
            " 2 0 1 0 2 2 2 0 2 2 1 0 0 1 1 2 1 2 1 1 2 1 2]\n",
            "actual iris species\n",
            "[1 1 1 1 0 1 2 0 0 2 0 2 2 1 2 0 1 2 0 2 2 0 1 0 0 2 1 0 0 0 0 0 1 2 0 1 1\n",
            " 2 0 1 0 2 2 2 0 2 2 1 0 0 1 1 2 1 2 1 1 2 1 2]\n",
            "accuracy score : 0.9666666666666667\n"
          ]
        }
      ]
    },
    {
      "cell_type": "markdown",
      "source": [
        " QUESTION 5. In class, we used a neural network to learn how to calculate square root. Use\n",
        " that code and ideas to teach a neural network how to calculate the 7-th root of any\n",
        " integer between 1 and 100."
      ],
      "metadata": {
        "id": "yf9ON-2YSC_e"
      }
    },
    {
      "cell_type": "code",
      "source": [
        "import tensorflow as tf\n",
        "from numpy import loadtxt\n",
        "from keras.models import Sequential\n",
        "from keras.layers import Dense\n",
        "from keras import optimizers\n",
        "from tensorflow.python.keras.optimizers import *\n",
        "import numpy as np\n",
        "\n",
        "\n",
        "#Load dataset\n",
        "#split into input (X) and output (y)\n",
        "X = np.array([[1], [4], [9], [16], [25], [36], [49], [64], [81], [100]])\n",
        "X = X*1.0\n",
        "y = np.array([[1**(1/7)], [4**(1/7)], [9**(1/7)], [16**(1/7)], [25**(1/7)], [36**(1/7)], [49**(1/7)], [64**(1/7)], [81**(1/7)], [100**(1/7)]])\n",
        "y = y*1.0\n",
        "\n",
        "#define keras model\n",
        "model = Sequential()\n",
        "\n",
        "model.add(Dense(6,input_dim=1,activation='relu'))\n",
        "model.add(Dense(6,activation='relu'))\n",
        "model.add(Dense(6,activation='relu'))\n",
        "model.add(Dense(1))\n",
        "\n",
        "#compile the keras model\n",
        "opt = optimizers.Adam(learning_rate=0.001)\n",
        "mse = tf.keras.losses.MeanSquaredError(\n",
        "    reduction=tf.keras.losses.Reduction.SUM)\n",
        "model.compile(loss=mse, optimizer=opt)\n",
        "\n",
        "\n",
        "\n",
        "#fit the keras model on the dataset (CPU)\n",
        "model.fit(X,y,epochs=2000,batch_size=10, verbose=0)\n",
        "model.summary()\n",
        "\n",
        "#make class predictions with the model\n",
        "predictions = model.predict(X)\n",
        "\n",
        "#summarize the first 10 cases\n",
        "for i in range(10):\n",
        "    print('%s => %.2f (expected %.2f)' %(X[i].tolist(), predictions[i], y[i]) )\n",
        "\n",
        "import matplotlib.pyplot as plt\n",
        "number_grid = np.linspace(1, 100, 100)\n",
        "plt.scatter(X,y, label='data')\n",
        "plt.plot(number_grid,model.predict(np.expand_dims(number_grid,axis=1)) , color='red', label='model')\n",
        "plt.xlabel('number')\n",
        "plt.ylabel('7th root')\n",
        "plt.legend()"
      ],
      "metadata": {
        "colab": {
          "base_uri": "https://localhost:8080/",
          "height": 1000
        },
        "id": "NZkKF38SSJkK",
        "outputId": "557125b6-27e4-4846-d450-00a101203e4e"
      },
      "execution_count": 8,
      "outputs": [
        {
          "output_type": "stream",
          "name": "stderr",
          "text": [
            "/usr/local/lib/python3.12/dist-packages/keras/src/layers/core/dense.py:93: UserWarning: Do not pass an `input_shape`/`input_dim` argument to a layer. When using Sequential models, prefer using an `Input(shape)` object as the first layer in the model instead.\n",
            "  super().__init__(activity_regularizer=activity_regularizer, **kwargs)\n"
          ]
        },
        {
          "output_type": "display_data",
          "data": {
            "text/plain": [
              "\u001b[1mModel: \"sequential\"\u001b[0m\n"
            ],
            "text/html": [
              "<pre style=\"white-space:pre;overflow-x:auto;line-height:normal;font-family:Menlo,'DejaVu Sans Mono',consolas,'Courier New',monospace\"><span style=\"font-weight: bold\">Model: \"sequential\"</span>\n",
              "</pre>\n"
            ]
          },
          "metadata": {}
        },
        {
          "output_type": "display_data",
          "data": {
            "text/plain": [
              "┏━━━━━━━━━━━━━━━━━━━━━━━━━━━━━━━━━┳━━━━━━━━━━━━━━━━━━━━━━━━┳━━━━━━━━━━━━━━━┓\n",
              "┃\u001b[1m \u001b[0m\u001b[1mLayer (type)                   \u001b[0m\u001b[1m \u001b[0m┃\u001b[1m \u001b[0m\u001b[1mOutput Shape          \u001b[0m\u001b[1m \u001b[0m┃\u001b[1m \u001b[0m\u001b[1m      Param #\u001b[0m\u001b[1m \u001b[0m┃\n",
              "┡━━━━━━━━━━━━━━━━━━━━━━━━━━━━━━━━━╇━━━━━━━━━━━━━━━━━━━━━━━━╇━━━━━━━━━━━━━━━┩\n",
              "│ dense (\u001b[38;5;33mDense\u001b[0m)                   │ (\u001b[38;5;45mNone\u001b[0m, \u001b[38;5;34m6\u001b[0m)              │            \u001b[38;5;34m12\u001b[0m │\n",
              "├─────────────────────────────────┼────────────────────────┼───────────────┤\n",
              "│ dense_1 (\u001b[38;5;33mDense\u001b[0m)                 │ (\u001b[38;5;45mNone\u001b[0m, \u001b[38;5;34m6\u001b[0m)              │            \u001b[38;5;34m42\u001b[0m │\n",
              "├─────────────────────────────────┼────────────────────────┼───────────────┤\n",
              "│ dense_2 (\u001b[38;5;33mDense\u001b[0m)                 │ (\u001b[38;5;45mNone\u001b[0m, \u001b[38;5;34m6\u001b[0m)              │            \u001b[38;5;34m42\u001b[0m │\n",
              "├─────────────────────────────────┼────────────────────────┼───────────────┤\n",
              "│ dense_3 (\u001b[38;5;33mDense\u001b[0m)                 │ (\u001b[38;5;45mNone\u001b[0m, \u001b[38;5;34m1\u001b[0m)              │             \u001b[38;5;34m7\u001b[0m │\n",
              "└─────────────────────────────────┴────────────────────────┴───────────────┘\n"
            ],
            "text/html": [
              "<pre style=\"white-space:pre;overflow-x:auto;line-height:normal;font-family:Menlo,'DejaVu Sans Mono',consolas,'Courier New',monospace\">┏━━━━━━━━━━━━━━━━━━━━━━━━━━━━━━━━━┳━━━━━━━━━━━━━━━━━━━━━━━━┳━━━━━━━━━━━━━━━┓\n",
              "┃<span style=\"font-weight: bold\"> Layer (type)                    </span>┃<span style=\"font-weight: bold\"> Output Shape           </span>┃<span style=\"font-weight: bold\">       Param # </span>┃\n",
              "┡━━━━━━━━━━━━━━━━━━━━━━━━━━━━━━━━━╇━━━━━━━━━━━━━━━━━━━━━━━━╇━━━━━━━━━━━━━━━┩\n",
              "│ dense (<span style=\"color: #0087ff; text-decoration-color: #0087ff\">Dense</span>)                   │ (<span style=\"color: #00d7ff; text-decoration-color: #00d7ff\">None</span>, <span style=\"color: #00af00; text-decoration-color: #00af00\">6</span>)              │            <span style=\"color: #00af00; text-decoration-color: #00af00\">12</span> │\n",
              "├─────────────────────────────────┼────────────────────────┼───────────────┤\n",
              "│ dense_1 (<span style=\"color: #0087ff; text-decoration-color: #0087ff\">Dense</span>)                 │ (<span style=\"color: #00d7ff; text-decoration-color: #00d7ff\">None</span>, <span style=\"color: #00af00; text-decoration-color: #00af00\">6</span>)              │            <span style=\"color: #00af00; text-decoration-color: #00af00\">42</span> │\n",
              "├─────────────────────────────────┼────────────────────────┼───────────────┤\n",
              "│ dense_2 (<span style=\"color: #0087ff; text-decoration-color: #0087ff\">Dense</span>)                 │ (<span style=\"color: #00d7ff; text-decoration-color: #00d7ff\">None</span>, <span style=\"color: #00af00; text-decoration-color: #00af00\">6</span>)              │            <span style=\"color: #00af00; text-decoration-color: #00af00\">42</span> │\n",
              "├─────────────────────────────────┼────────────────────────┼───────────────┤\n",
              "│ dense_3 (<span style=\"color: #0087ff; text-decoration-color: #0087ff\">Dense</span>)                 │ (<span style=\"color: #00d7ff; text-decoration-color: #00d7ff\">None</span>, <span style=\"color: #00af00; text-decoration-color: #00af00\">1</span>)              │             <span style=\"color: #00af00; text-decoration-color: #00af00\">7</span> │\n",
              "└─────────────────────────────────┴────────────────────────┴───────────────┘\n",
              "</pre>\n"
            ]
          },
          "metadata": {}
        },
        {
          "output_type": "display_data",
          "data": {
            "text/plain": [
              "\u001b[1m Total params: \u001b[0m\u001b[38;5;34m311\u001b[0m (1.22 KB)\n"
            ],
            "text/html": [
              "<pre style=\"white-space:pre;overflow-x:auto;line-height:normal;font-family:Menlo,'DejaVu Sans Mono',consolas,'Courier New',monospace\"><span style=\"font-weight: bold\"> Total params: </span><span style=\"color: #00af00; text-decoration-color: #00af00\">311</span> (1.22 KB)\n",
              "</pre>\n"
            ]
          },
          "metadata": {}
        },
        {
          "output_type": "display_data",
          "data": {
            "text/plain": [
              "\u001b[1m Trainable params: \u001b[0m\u001b[38;5;34m103\u001b[0m (412.00 B)\n"
            ],
            "text/html": [
              "<pre style=\"white-space:pre;overflow-x:auto;line-height:normal;font-family:Menlo,'DejaVu Sans Mono',consolas,'Courier New',monospace\"><span style=\"font-weight: bold\"> Trainable params: </span><span style=\"color: #00af00; text-decoration-color: #00af00\">103</span> (412.00 B)\n",
              "</pre>\n"
            ]
          },
          "metadata": {}
        },
        {
          "output_type": "display_data",
          "data": {
            "text/plain": [
              "\u001b[1m Non-trainable params: \u001b[0m\u001b[38;5;34m0\u001b[0m (0.00 B)\n"
            ],
            "text/html": [
              "<pre style=\"white-space:pre;overflow-x:auto;line-height:normal;font-family:Menlo,'DejaVu Sans Mono',consolas,'Courier New',monospace\"><span style=\"font-weight: bold\"> Non-trainable params: </span><span style=\"color: #00af00; text-decoration-color: #00af00\">0</span> (0.00 B)\n",
              "</pre>\n"
            ]
          },
          "metadata": {}
        },
        {
          "output_type": "display_data",
          "data": {
            "text/plain": [
              "\u001b[1m Optimizer params: \u001b[0m\u001b[38;5;34m208\u001b[0m (836.00 B)\n"
            ],
            "text/html": [
              "<pre style=\"white-space:pre;overflow-x:auto;line-height:normal;font-family:Menlo,'DejaVu Sans Mono',consolas,'Courier New',monospace\"><span style=\"font-weight: bold\"> Optimizer params: </span><span style=\"color: #00af00; text-decoration-color: #00af00\">208</span> (836.00 B)\n",
              "</pre>\n"
            ]
          },
          "metadata": {}
        },
        {
          "output_type": "stream",
          "name": "stdout",
          "text": [
            "\u001b[1m1/1\u001b[0m \u001b[32m━━━━━━━━━━━━━━━━━━━━\u001b[0m\u001b[37m\u001b[0m \u001b[1m0s\u001b[0m 80ms/step\n",
            "[1.0] => 1.01 (expected 1.00)\n",
            "[4.0] => 1.22 (expected 1.22)\n",
            "[9.0] => 1.35 (expected 1.37)\n",
            "[16.0] => 1.49 (expected 1.49)\n",
            "[25.0] => 1.61 (expected 1.58)\n",
            "[36.0] => 1.66 (expected 1.67)\n",
            "[49.0] => 1.72 (expected 1.74)\n",
            "[64.0] => 1.79 (expected 1.81)\n",
            "[81.0] => 1.87 (expected 1.87)\n",
            "[100.0] => 1.95 (expected 1.93)\n",
            "\u001b[1m4/4\u001b[0m \u001b[32m━━━━━━━━━━━━━━━━━━━━\u001b[0m\u001b[37m\u001b[0m \u001b[1m0s\u001b[0m 8ms/step \n"
          ]
        },
        {
          "output_type": "stream",
          "name": "stderr",
          "text": [
            "/tmp/ipython-input-3207018828.py:42: DeprecationWarning: Conversion of an array with ndim > 0 to a scalar is deprecated, and will error in future. Ensure you extract a single element from your array before performing this operation. (Deprecated NumPy 1.25.)\n",
            "  print('%s => %.2f (expected %.2f)' %(X[i].tolist(), predictions[i], y[i]) )\n"
          ]
        },
        {
          "output_type": "execute_result",
          "data": {
            "text/plain": [
              "<matplotlib.legend.Legend at 0x79fab9fc52e0>"
            ]
          },
          "metadata": {},
          "execution_count": 8
        },
        {
          "output_type": "display_data",
          "data": {
            "text/plain": [
              "<Figure size 640x480 with 1 Axes>"
            ],
            "image/png": "[encoded data removed]"
          },
          "metadata": {}
        }
      ]
    },
    {
      "cell_type": "markdown",
      "source": [
        " Question 6. (40 pts.) Use the Iris dataset and the neural network code shown in class to create a\n",
        " neural network model that takes sepal length as input and predicts petal length as output.\n",
        ""
      ],
      "metadata": {
        "id": "joacubbPSj6d"
      }
    },
    {
      "cell_type": "code",
      "metadata": {
        "colab": {
          "base_uri": "https://localhost:8080/",
          "height": 1000
        },
        "id": "962d2cfc",
        "outputId": "1dc307da-4a74-46ea-cfbc-ca29544c334e"
      },
      "source": [
        "from sklearn import datasets\n",
        "import numpy as np\n",
        "import tensorflow as tf\n",
        "from keras.models import Sequential\n",
        "from keras.layers import Dense\n",
        "from keras import optimizers\n",
        "from tensorflow.python.keras.optimizers import *\n",
        "import matplotlib.pyplot as plt\n",
        "\n",
        "\n",
        "iris = datasets.load_iris()\n",
        "X = iris.data[:, :1]\n",
        "y = iris.data[:,2:3]\n",
        "\n",
        "from sklearn.model_selection import train_test_split\n",
        "\n",
        "X_train, X_test, y_train, y_test=train_test_split(\n",
        "    X,y,\n",
        "    test_size=0.40,\n",
        "    train_size=0.60,\n",
        "    random_state=123,\n",
        "    shuffle=True,\n",
        "    # stratify=y # Cannot stratify with regression target\n",
        "    )\n",
        "\n",
        "model = Sequential()\n",
        "\n",
        "model.add(Dense(36,input_dim=1,activation='relu'))\n",
        "model.add(Dense(36,activation='relu'))\n",
        "model.add(Dense(36,activation='relu'))\n",
        "model.add(Dense(1))\n",
        "\n",
        "opt = optimizers.Adam(learning_rate=0.001)\n",
        "mse = tf.keras.losses.MeanSquaredError(reduction=tf.keras.losses.Reduction.SUM)\n",
        "model.compile(loss=mse, optimizer=opt)\n",
        "print('training')\n",
        "model.fit(X_train,y_train,epochs=2000,batch_size=10, verbose=0)\n",
        "model.summary()\n",
        "predictions = model.predict(X_test)\n",
        "print('predictions')\n",
        "\n",
        "# Display predictions\n",
        "for i in range(len(X_test)):\n",
        "    print('%s => %.2f (expected %.2f)' %(X_test[i].tolist(), predictions[i], y_test[i]) )\n",
        "\n",
        "# Visualize the results\n",
        "plt.scatter(X_test, y_test, label='Actual')\n",
        "plt.scatter(X_test, predictions, color='red', label='Predictions')\n",
        "plt.xlabel('Sepal Length')\n",
        "plt.ylabel('Petal Length')\n",
        "plt.title('Petal Length Prediction based on Sepal Length')\n",
        "plt.legend()\n",
        "plt.show()"
      ],
      "execution_count": 9,
      "outputs": [
        {
          "output_type": "stream",
          "name": "stderr",
          "text": [
            "/usr/local/lib/python3.12/dist-packages/keras/src/layers/core/dense.py:93: UserWarning: Do not pass an `input_shape`/`input_dim` argument to a layer. When using Sequential models, prefer using an `Input(shape)` object as the first layer in the model instead.\n",
            "  super().__init__(activity_regularizer=activity_regularizer, **kwargs)\n"
          ]
        },
        {
          "output_type": "stream",
          "name": "stdout",
          "text": [
            "training\n"
          ]
        },
        {
          "output_type": "display_data",
          "data": {
            "text/plain": [
              "\u001b[1mModel: \"sequential_1\"\u001b[0m\n"
            ],
            "text/html": [
              "<pre style=\"white-space:pre;overflow-x:auto;line-height:normal;font-family:Menlo,'DejaVu Sans Mono',consolas,'Courier New',monospace\"><span style=\"font-weight: bold\">Model: \"sequential_1\"</span>\n",
              "</pre>\n"
            ]
          },
          "metadata": {}
        },
        {
          "output_type": "display_data",
          "data": {
            "text/plain": [
              "┏━━━━━━━━━━━━━━━━━━━━━━━━━━━━━━━━━┳━━━━━━━━━━━━━━━━━━━━━━━━┳━━━━━━━━━━━━━━━┓\n",
              "┃\u001b[1m \u001b[0m\u001b[1mLayer (type)                   \u001b[0m\u001b[1m \u001b[0m┃\u001b[1m \u001b[0m\u001b[1mOutput Shape          \u001b[0m\u001b[1m \u001b[0m┃\u001b[1m \u001b[0m\u001b[1m      Param #\u001b[0m\u001b[1m \u001b[0m┃\n",
              "┡━━━━━━━━━━━━━━━━━━━━━━━━━━━━━━━━━╇━━━━━━━━━━━━━━━━━━━━━━━━╇━━━━━━━━━━━━━━━┩\n",
              "│ dense_4 (\u001b[38;5;33mDense\u001b[0m)                 │ (\u001b[38;5;45mNone\u001b[0m, \u001b[38;5;34m36\u001b[0m)             │            \u001b[38;5;34m72\u001b[0m │\n",
              "├─────────────────────────────────┼────────────────────────┼───────────────┤\n",
              "│ dense_5 (\u001b[38;5;33mDense\u001b[0m)                 │ (\u001b[38;5;45mNone\u001b[0m, \u001b[38;5;34m36\u001b[0m)             │         \u001b[38;5;34m1,332\u001b[0m │\n",
              "├─────────────────────────────────┼────────────────────────┼───────────────┤\n",
              "│ dense_6 (\u001b[38;5;33mDense\u001b[0m)                 │ (\u001b[38;5;45mNone\u001b[0m, \u001b[38;5;34m36\u001b[0m)             │         \u001b[38;5;34m1,332\u001b[0m │\n",
              "├─────────────────────────────────┼────────────────────────┼───────────────┤\n",
              "│ dense_7 (\u001b[38;5;33mDense\u001b[0m)                 │ (\u001b[38;5;45mNone\u001b[0m, \u001b[38;5;34m1\u001b[0m)              │            \u001b[38;5;34m37\u001b[0m │\n",
              "└─────────────────────────────────┴────────────────────────┴───────────────┘\n"
            ],
            "text/html": [
              "<pre style=\"white-space:pre;overflow-x:auto;line-height:normal;font-family:Menlo,'DejaVu Sans Mono',consolas,'Courier New',monospace\">┏━━━━━━━━━━━━━━━━━━━━━━━━━━━━━━━━━┳━━━━━━━━━━━━━━━━━━━━━━━━┳━━━━━━━━━━━━━━━┓\n",
              "┃<span style=\"font-weight: bold\"> Layer (type)                    </span>┃<span style=\"font-weight: bold\"> Output Shape           </span>┃<span style=\"font-weight: bold\">       Param # </span>┃\n",
              "┡━━━━━━━━━━━━━━━━━━━━━━━━━━━━━━━━━╇━━━━━━━━━━━━━━━━━━━━━━━━╇━━━━━━━━━━━━━━━┩\n",
              "│ dense_4 (<span style=\"color: #0087ff; text-decoration-color: #0087ff\">Dense</span>)                 │ (<span style=\"color: #00d7ff; text-decoration-color: #00d7ff\">None</span>, <span style=\"color: #00af00; text-decoration-color: #00af00\">36</span>)             │            <span style=\"color: #00af00; text-decoration-color: #00af00\">72</span> │\n",
              "├─────────────────────────────────┼────────────────────────┼───────────────┤\n",
              "│ dense_5 (<span style=\"color: #0087ff; text-decoration-color: #0087ff\">Dense</span>)                 │ (<span style=\"color: #00d7ff; text-decoration-color: #00d7ff\">None</span>, <span style=\"color: #00af00; text-decoration-color: #00af00\">36</span>)             │         <span style=\"color: #00af00; text-decoration-color: #00af00\">1,332</span> │\n",
              "├─────────────────────────────────┼────────────────────────┼───────────────┤\n",
              "│ dense_6 (<span style=\"color: #0087ff; text-decoration-color: #0087ff\">Dense</span>)                 │ (<span style=\"color: #00d7ff; text-decoration-color: #00d7ff\">None</span>, <span style=\"color: #00af00; text-decoration-color: #00af00\">36</span>)             │         <span style=\"color: #00af00; text-decoration-color: #00af00\">1,332</span> │\n",
              "├─────────────────────────────────┼────────────────────────┼───────────────┤\n",
              "│ dense_7 (<span style=\"color: #0087ff; text-decoration-color: #0087ff\">Dense</span>)                 │ (<span style=\"color: #00d7ff; text-decoration-color: #00d7ff\">None</span>, <span style=\"color: #00af00; text-decoration-color: #00af00\">1</span>)              │            <span style=\"color: #00af00; text-decoration-color: #00af00\">37</span> │\n",
              "└─────────────────────────────────┴────────────────────────┴───────────────┘\n",
              "</pre>\n"
            ]
          },
          "metadata": {}
        },
        {
          "output_type": "display_data",
          "data": {
            "text/plain": [
              "\u001b[1m Total params: \u001b[0m\u001b[38;5;34m8,321\u001b[0m (32.51 KB)\n"
            ],
            "text/html": [
              "<pre style=\"white-space:pre;overflow-x:auto;line-height:normal;font-family:Menlo,'DejaVu Sans Mono',consolas,'Courier New',monospace\"><span style=\"font-weight: bold\"> Total params: </span><span style=\"color: #00af00; text-decoration-color: #00af00\">8,321</span> (32.51 KB)\n",
              "</pre>\n"
            ]
          },
          "metadata": {}
        },
        {
          "output_type": "display_data",
          "data": {
            "text/plain": [
              "\u001b[1m Trainable params: \u001b[0m\u001b[38;5;34m2,773\u001b[0m (10.83 KB)\n"
            ],
            "text/html": [
              "<pre style=\"white-space:pre;overflow-x:auto;line-height:normal;font-family:Menlo,'DejaVu Sans Mono',consolas,'Courier New',monospace\"><span style=\"font-weight: bold\"> Trainable params: </span><span style=\"color: #00af00; text-decoration-color: #00af00\">2,773</span> (10.83 KB)\n",
              "</pre>\n"
            ]
          },
          "metadata": {}
        },
        {
          "output_type": "display_data",
          "data": {
            "text/plain": [
              "\u001b[1m Non-trainable params: \u001b[0m\u001b[38;5;34m0\u001b[0m (0.00 B)\n"
            ],
            "text/html": [
              "<pre style=\"white-space:pre;overflow-x:auto;line-height:normal;font-family:Menlo,'DejaVu Sans Mono',consolas,'Courier New',monospace\"><span style=\"font-weight: bold\"> Non-trainable params: </span><span style=\"color: #00af00; text-decoration-color: #00af00\">0</span> (0.00 B)\n",
              "</pre>\n"
            ]
          },
          "metadata": {}
        },
        {
          "output_type": "display_data",
          "data": {
            "text/plain": [
              "\u001b[1m Optimizer params: \u001b[0m\u001b[38;5;34m5,548\u001b[0m (21.68 KB)\n"
            ],
            "text/html": [
              "<pre style=\"white-space:pre;overflow-x:auto;line-height:normal;font-family:Menlo,'DejaVu Sans Mono',consolas,'Courier New',monospace\"><span style=\"font-weight: bold\"> Optimizer params: </span><span style=\"color: #00af00; text-decoration-color: #00af00\">5,548</span> (21.68 KB)\n",
              "</pre>\n"
            ]
          },
          "metadata": {}
        },
        {
          "output_type": "stream",
          "name": "stdout",
          "text": [
            "\u001b[1m2/2\u001b[0m \u001b[32m━━━━━━━━━━━━━━━━━━━━\u001b[0m\u001b[37m\u001b[0m \u001b[1m0s\u001b[0m 60ms/step\n",
            "predictions\n",
            "[6.3] => 4.97 (expected 4.90)\n",
            "[6.8] => 5.44 (expected 5.50)\n",
            "[6.4] => 5.06 (expected 5.60)\n",
            "[5.6] => 3.51 (expected 4.10)\n",
            "[4.9] => 1.77 (expected 1.40)\n",
            "[6.0] => 4.61 (expected 4.80)\n",
            "[6.3] => 4.97 (expected 4.40)\n",
            "[4.4] => 1.17 (expected 1.30)\n",
            "[4.4] => 1.17 (expected 1.40)\n",
            "[5.5] => 3.23 (expected 4.40)\n",
            "[6.9] => 5.56 (expected 5.10)\n",
            "[5.5] => 3.23 (expected 1.40)\n",
            "[5.2] => 2.18 (expected 3.90)\n",
            "[6.5] => 5.16 (expected 5.50)\n",
            "[7.7] => 6.60 (expected 6.10)\n",
            "[6.5] => 5.16 (expected 5.80)\n",
            "[5.5] => 3.23 (expected 1.30)\n",
            "[4.3] => 1.06 (expected 1.10)\n",
            "[6.1] => 4.77 (expected 4.70)\n",
            "[4.8] => 1.65 (expected 1.40)\n",
            "[5.2] => 2.18 (expected 1.40)\n",
            "[6.3] => 4.97 (expected 5.10)\n",
            "[4.8] => 1.65 (expected 1.90)\n",
            "[6.1] => 4.77 (expected 4.90)\n",
            "[5.1] => 2.01 (expected 1.60)\n",
            "[5.4] => 2.88 (expected 1.70)\n",
            "[5.4] => 2.88 (expected 1.50)\n",
            "[5.6] => 3.51 (expected 4.90)\n",
            "[7.7] => 6.60 (expected 6.70)\n",
            "[5.0] => 1.89 (expected 1.40)\n",
            "[7.4] => 6.21 (expected 6.10)\n",
            "[6.0] => 4.61 (expected 5.00)\n",
            "[4.7] => 1.52 (expected 1.60)\n",
            "[5.1] => 2.01 (expected 1.40)\n",
            "[6.0] => 4.61 (expected 4.00)\n",
            "[5.0] => 1.89 (expected 3.30)\n",
            "[7.9] => 6.86 (expected 6.40)\n",
            "[5.4] => 2.88 (expected 1.70)\n",
            "[5.4] => 2.88 (expected 1.30)\n",
            "[5.8] => 4.07 (expected 3.90)\n",
            "[5.0] => 1.89 (expected 3.50)\n",
            "[5.0] => 1.89 (expected 1.20)\n",
            "[6.8] => 5.44 (expected 5.90)\n",
            "[6.7] => 5.34 (expected 5.20)\n",
            "[5.8] => 4.07 (expected 5.10)\n",
            "[5.8] => 4.07 (expected 5.10)\n",
            "[6.3] => 4.97 (expected 5.60)\n",
            "[5.5] => 3.23 (expected 4.00)\n",
            "[5.1] => 2.01 (expected 1.50)\n",
            "[4.4] => 1.17 (expected 1.30)\n",
            "[6.5] => 5.16 (expected 5.10)\n",
            "[5.1] => 2.01 (expected 1.70)\n",
            "[4.9] => 1.77 (expected 1.50)\n",
            "[6.7] => 5.34 (expected 4.70)\n",
            "[6.1] => 4.77 (expected 4.60)\n",
            "[5.5] => 3.23 (expected 4.00)\n",
            "[5.7] => 3.79 (expected 3.50)\n",
            "[5.8] => 4.07 (expected 5.10)\n",
            "[6.7] => 5.34 (expected 4.40)\n",
            "[6.4] => 5.06 (expected 5.30)\n"
          ]
        },
        {
          "output_type": "stream",
          "name": "stderr",
          "text": [
            "/tmp/ipython-input-3274913076.py:44: DeprecationWarning: Conversion of an array with ndim > 0 to a scalar is deprecated, and will error in future. Ensure you extract a single element from your array before performing this operation. (Deprecated NumPy 1.25.)\n",
            "  print('%s => %.2f (expected %.2f)' %(X_test[i].tolist(), predictions[i], y_test[i]) )\n"
          ]
        },
        {
          "output_type": "display_data",
          "data": {
            "text/plain": [
              "<Figure size 640x480 with 1 Axes>"
            ],
            "image/png": "[encoded data removed]"
          },
          "metadata": {}
        }
      ]
    }
  ]
}