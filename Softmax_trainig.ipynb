{
  "nbformat": 4,
  "nbformat_minor": 0,
  "metadata": {
    "colab": {
      "provenance": [],
      "authorship_tag": "ABX9TyOLZ95gNhG/HmAoSHRi6F8s",
      "include_colab_link": true
    },
    "kernelspec": {
      "name": "python3",
      "display_name": "Python 3"
    },
    "language_info": {
      "name": "python"
    }
  },
  "cells": [
    {
      "cell_type": "markdown",
      "metadata": {
        "id": "view-in-github",
        "colab_type": "text"
      },
      "source": [
        "<a href=\"https://colab.research.google.com/github/pd05849/Machine_Learning_Engineering/blob/main/Softmax_trainig.ipynb\" target=\"_parent\"><img src=\"https://colab.research.google.com/assets/colab-badge.svg\" alt=\"Open In Colab\"/></a>"
      ]
    },
    {
      "cell_type": "code",
      "metadata": {
        "colab": {
          "base_uri": "https://localhost:8080/"
        },
        "id": "0560acdb",
        "outputId": "71f31d8a-6b27-454c-93c3-e89d31e7163d"
      },
      "source": [
        "import numpy as np\n",
        "\n",
        "# Create a feature vector\n",
        "feature_vector = np.array([1, 2, 3, 4, 5])\n",
        "print(\"Feature Vector:\")\n",
        "print(feature_vector)\n",
        "\n",
        "# Create a weight matrix (e.g., for a simple linear model)\n",
        "# The number of columns in the weight matrix should match the number of features\n",
        "num_features = len(feature_vector)\n",
        "\n",
        "# k is the number of things we want to classify\n",
        "k = 3 # Example: 3 classes\n",
        "num_outputs = k\n",
        "\n",
        "weight_matrix = np.random.rand(num_outputs, num_features)\n",
        "print(\"\\nWeight Matrix:\")\n",
        "print(weight_matrix)"
      ],
      "execution_count": 2,
      "outputs": [
        {
          "output_type": "stream",
          "name": "stdout",
          "text": [
            "Feature Vector:\n",
            "[1 2 3 4 5]\n",
            "\n",
            "Weight Matrix:\n",
            "[[0.65000518 0.66079758 0.98218504 0.13454539 0.57418185]\n",
            " [0.02493839 0.38243901 0.33881674 0.31835819 0.84131011]\n",
            " [0.877871   0.94573789 0.79069642 0.15140229 0.6166123 ]]\n"
          ]
        }
      ]
    },
    {
      "cell_type": "code",
      "source": [
        "z = np.dot(weight_matrix, feature_vector)\n",
        "print(\"\\nDot Product (z):\")\n",
        "print(z)"
      ],
      "metadata": {
        "colab": {
          "base_uri": "https://localhost:8080/"
        },
        "id": "_4ndtLP6_6q1",
        "outputId": "8668084a-5b27-4a09-ab76-fee2e1e2df05"
      },
      "execution_count": 3,
      "outputs": [
        {
          "output_type": "stream",
          "name": "stdout",
          "text": [
            "\n",
            "Dot Product (z):\n",
            "[8.3272463  7.28624995 8.83010667]\n"
          ]
        }
      ]
    },
    {
      "cell_type": "code",
      "source": [
        "softmax = np.exp(z) / np.sum(np.exp(z))\n",
        "print(\"\\nSoftmax Output:\")\n",
        "print(softmax)"
      ],
      "metadata": {
        "colab": {
          "base_uri": "https://localhost:8080/"
        },
        "id": "ZoMz4o_-AA8R",
        "outputId": "b2829ffb-f059-46fe-9aa0-733f0666b4db"
      },
      "execution_count": 4,
      "outputs": [
        {
          "output_type": "stream",
          "name": "stdout",
          "text": [
            "\n",
            "Softmax Output:\n",
            "[0.33260751 0.11744461 0.54994788]\n"
          ]
        }
      ]
    },
    {
      "cell_type": "code",
      "source": [
        "import numpy as np\n",
        "\n",
        "# Create a feature vector\n",
        "feature_vector = np.array([1, 2, 0, 1])\n",
        "print(\"Feature Vector:\")\n",
        "print(feature_vector)\n",
        "\n",
        "# Create a weight matrix (e.g., for a simple linear model)\n",
        "# The number of columns in the weight matrix should match the number of features\n",
        "num_features = len(feature_vector)\n",
        "\n",
        "# k is the number of things we want to classify\n",
        "k = 3 # Example: 3 classes\n",
        "num_outputs = k\n",
        "\n",
        "weight_matrix = np.array([[0.2, 0.5, -0.3, 0.1], [-0.4, 0.3, 0.8, 0.2], [0.1, -0.2, 0.4, 0.6]])\n",
        "print(\"\\nWeight Matrix:\")\n",
        "print(weight_matrix)\n",
        "\n",
        "b = np.array([0.1, -0.2, 0.3])\n",
        "print(\"\\nb Vector:\")\n",
        "print(b)\n",
        "\n",
        "z = np.dot(weight_matrix, feature_vector) * b\n",
        "print(\"\\nDot Product (z):\")\n",
        "print(z)\n",
        "\n",
        "softmax = np.exp(z) / np.sum(np.exp(z))\n",
        "print(\"\\nSoftmax Output:\")\n",
        "print(softmax)\n",
        "\n",
        "predicted_class = np.argmax(softmax)\n",
        "print(\"\\nPredicted Class:\")\n",
        "print(predicted_class)\n",
        "\n",
        "# Create one-hot encoded prediction\n",
        "one_hot_prediction = np.zeros(num_outputs)\n",
        "one_hot_prediction[predicted_class] = 1\n",
        "print(\"\\nOne-Hot Encoded Prediction:\")\n",
        "print(one_hot_prediction)"
      ],
      "metadata": {
        "colab": {
          "base_uri": "https://localhost:8080/"
        },
        "id": "utlQqQcfAtbs",
        "outputId": "c205c965-9248-4fb7-9077-4406be6fbfc3"
      },
      "execution_count": 8,
      "outputs": [
        {
          "output_type": "stream",
          "name": "stdout",
          "text": [
            "Feature Vector:\n",
            "[1 2 0 1]\n",
            "\n",
            "Weight Matrix:\n",
            "[[ 0.2  0.5 -0.3  0.1]\n",
            " [-0.4  0.3  0.8  0.2]\n",
            " [ 0.1 -0.2  0.4  0.6]]\n",
            "\n",
            "Dot Product (z):\n",
            "[1.3 0.4 0.3]\n",
            "\n",
            "Softmax Output:\n",
            "[0.56355519 0.22912444 0.20732037]\n",
            "\n",
            "Predicted Class:\n",
            "0\n",
            "\n",
            "One-Hot Encoded Prediction:\n",
            "[1. 0. 0.]\n"
          ]
        }
      ]
    },
    {
      "cell_type": "code",
      "source": [
        "import numpy as np\n",
        "\n",
        "# Create a feature vector\n",
        "feature_vector = np.array([1, 2, 0, 1])\n",
        "print(\"Feature Vector:\")\n",
        "print(feature_vector)\n",
        "\n",
        "# Create a weight matrix (e.g., for a simple linear model)\n",
        "# The number of columns in the weight matrix should match the number of features\n",
        "num_features = len(feature_vector)\n",
        "\n",
        "# k is the number of things we want to classify\n",
        "k = 3 # Example: 3 classes\n",
        "num_outputs = k\n",
        "\n",
        "weight_matrix = np.array([[0.2, 0.5, -0.3, 0.1], [-0.4, 0.3, 0.8, 0.2], [0.1, -0.2, 0.4, 0.6]])\n",
        "print(\"\\nWeight Matrix:\")\n",
        "print(weight_matrix)\n",
        "\n",
        "b = np.array([0.1, -0.2, 0.05])\n",
        "print(\"\\nb Vector:\")\n",
        "print(b)\n",
        "\n",
        "z = np.dot(weight_matrix, feature_vector) + b\n",
        "print(\"\\nDot Product (z):\")\n",
        "print(z)\n",
        "\n",
        "softmax = np.exp(z) / np.sum(np.exp(z))\n",
        "print(\"\\nSoftmax Output:\")\n",
        "print(softmax)\n",
        "\n",
        "predicted_class = np.argmax(softmax)\n",
        "print(\"\\nPredicted Class:\")\n",
        "print(predicted_class)\n",
        "\n",
        "# Create one-hot encoded prediction\n",
        "one_hot_prediction = np.zeros(num_outputs)\n",
        "one_hot_prediction[predicted_class] = 1\n",
        "print(\"\\nOne-Hot Encoded Prediction:\")\n",
        "print(one_hot_prediction)"
      ],
      "metadata": {
        "colab": {
          "base_uri": "https://localhost:8080/"
        },
        "id": "LlrI4KgcDYGI",
        "outputId": "143992fe-fe29-49cc-f50e-5f4770661e65"
      },
      "execution_count": 12,
      "outputs": [
        {
          "output_type": "stream",
          "name": "stdout",
          "text": [
            "Feature Vector:\n",
            "[1 2 0 1]\n",
            "\n",
            "Weight Matrix:\n",
            "[[ 0.2  0.5 -0.3  0.1]\n",
            " [-0.4  0.3  0.8  0.2]\n",
            " [ 0.1 -0.2  0.4  0.6]]\n",
            "\n",
            "b Vector:\n",
            "[ 0.1  -0.2   0.05]\n",
            "\n",
            "Dot Product (z):\n",
            "[1.4  0.2  0.35]\n",
            "\n",
            "Softmax Output:\n",
            "[0.60564511 0.1824168  0.21193809]\n",
            "\n",
            "Predicted Class:\n",
            "0\n",
            "\n",
            "One-Hot Encoded Prediction:\n",
            "[1. 0. 0.]\n"
          ]
        }
      ]
    }
  ]
}